{
 "cells": [
  {
   "cell_type": "markdown",
   "metadata": {},
   "source": [
    "##### Develop a code to demonstrate mean, medium, mode, standard deviation using Numpy and Pandas using a real time data set of Apple stock data available on kaggle\n",
    "\n"
   ]
  },
  {
   "cell_type": "code",
   "execution_count": 1,
   "metadata": {},
   "outputs": [],
   "source": [
    "import numpy as np\n",
    "import pandas as pd\n",
    "data=pd.read_csv(\"Datasets/AAPL.csv\")"
   ]
  },
  {
   "cell_type": "code",
   "execution_count": 2,
   "metadata": {},
   "outputs": [
    {
     "name": "stdout",
     "output_type": "stream",
     "text": [
      "             Date        Open        High         Low       Close   Adj Close  \\\n",
      "0      1980-12-12    0.128348    0.128906    0.128348    0.128348    0.100323   \n",
      "1      1980-12-15    0.122210    0.122210    0.121652    0.121652    0.095089   \n",
      "2      1980-12-16    0.113281    0.113281    0.112723    0.112723    0.088110   \n",
      "3      1980-12-17    0.115513    0.116071    0.115513    0.115513    0.090291   \n",
      "4      1980-12-18    0.118862    0.119420    0.118862    0.118862    0.092908   \n",
      "...           ...         ...         ...         ...         ...         ...   \n",
      "10404  2022-03-18  160.509995  164.479996  159.759995  163.979996  163.979996   \n",
      "10405  2022-03-21  163.509995  166.350006  163.009995  165.380005  165.380005   \n",
      "10406  2022-03-22  165.509995  169.419998  164.910004  168.820007  168.820007   \n",
      "10407  2022-03-23  167.990005  172.639999  167.649994  170.210007  170.210007   \n",
      "10408  2022-03-24  171.059998  174.139999  170.210007  174.070007  174.070007   \n",
      "\n",
      "          Volume  \n",
      "0      469033600  \n",
      "1      175884800  \n",
      "2      105728000  \n",
      "3       86441600  \n",
      "4       73449600  \n",
      "...          ...  \n",
      "10404  123351200  \n",
      "10405   95811400  \n",
      "10406   81532000  \n",
      "10407   98062700  \n",
      "10408   90018700  \n",
      "\n",
      "[10409 rows x 7 columns]\n"
     ]
    }
   ],
   "source": [
    "print(data)"
   ]
  },
  {
   "cell_type": "code",
   "execution_count": 3,
   "metadata": {},
   "outputs": [
    {
     "name": "stdout",
     "output_type": "stream",
     "text": [
      "MEAN OF ADJ CLOSE IS 13.350336630127774\n"
     ]
    }
   ],
   "source": [
    "mean=np.mean(data['Adj Close'])\n",
    "print(f\"MEAN OF ADJ CLOSE IS {mean}\")"
   ]
  },
  {
   "cell_type": "code",
   "execution_count": 4,
   "metadata": {},
   "outputs": [
    {
     "name": "stdout",
     "output_type": "stream",
     "text": [
      "STANDARD DEVIATION OF ADJ CLOSE IS 29.90969514933915\n"
     ]
    }
   ],
   "source": [
    "sd=np.std(data['Adj Close'])\n",
    "print(f\"STANDARD DEVIATION OF ADJ CLOSE IS {sd}\")"
   ]
  },
  {
   "cell_type": "code",
   "execution_count": 5,
   "metadata": {},
   "outputs": [
    {
     "name": "stdout",
     "output_type": "stream",
     "text": [
      "MEDIAN OF ADJ CLOSE IS 0.386853\n"
     ]
    }
   ],
   "source": [
    "median=np.median(data['Adj Close'])\n",
    "print(f\"MEDIAN OF ADJ CLOSE IS {median}\")"
   ]
  },
  {
   "cell_type": "code",
   "execution_count": 6,
   "metadata": {},
   "outputs": [
    {
     "name": "stdout",
     "output_type": "stream",
     "text": [
      "MODE OF THE ADJ CLOSE IS 0.086365\n"
     ]
    }
   ],
   "source": [
    "mode=data['Adj Close'].mode()[0]\n",
    "print(f\"MODE OF THE ADJ CLOSE IS {mode}\")"
   ]
  }
 ],
 "metadata": {
  "kernelspec": {
   "display_name": "Python 3",
   "language": "python",
   "name": "python3"
  },
  "language_info": {
   "codemirror_mode": {
    "name": "ipython",
    "version": 3
   },
   "file_extension": ".py",
   "mimetype": "text/x-python",
   "name": "python",
   "nbconvert_exporter": "python",
   "pygments_lexer": "ipython3",
   "version": "3.12.4"
  }
 },
 "nbformat": 4,
 "nbformat_minor": 2
}
