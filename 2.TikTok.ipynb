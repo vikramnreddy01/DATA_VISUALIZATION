{
 "cells": [
  {
   "cell_type": "markdown",
   "metadata": {},
   "source": [
    "#### Develop a code to perform basic to advanced operation using both Numpy and Pandas using TikTok video performance dataset"
   ]
  },
  {
   "cell_type": "code",
   "execution_count": 2,
   "metadata": {},
   "outputs": [],
   "source": [
    "import numpy as np\n",
    "import pandas as pd\n",
    "data=pd.read_csv(\"Datasets/tiktok_dataset.csv\")"
   ]
  },
  {
   "cell_type": "code",
   "execution_count": 3,
   "metadata": {},
   "outputs": [
    {
     "name": "stdout",
     "output_type": "stream",
     "text": [
      "   # claim_status    video_id  video_duration_sec  \\\n",
      "0  1        claim  7017666017                  59   \n",
      "1  2        claim  4014381136                  32   \n",
      "2  3        claim  9859838091                  31   \n",
      "3  4        claim  1866847991                  25   \n",
      "4  5        claim  7105231098                  19   \n",
      "\n",
      "                            video_transcription_text verified_status  \\\n",
      "0  someone shared with me that drone deliveries a...    not verified   \n",
      "1  someone shared with me that there are more mic...    not verified   \n",
      "2  someone shared with me that american industria...    not verified   \n",
      "3  someone shared with me that the metro of st. p...    not verified   \n",
      "4  someone shared with me that the number of busi...    not verified   \n",
      "\n",
      "  author_ban_status  video_view_count  video_like_count  video_share_count  \\\n",
      "0      under review          343296.0           19425.0              241.0   \n",
      "1            active          140877.0           77355.0            19034.0   \n",
      "2            active          902185.0           97690.0             2858.0   \n",
      "3            active          437506.0          239954.0            34812.0   \n",
      "4            active           56167.0           34987.0             4110.0   \n",
      "\n",
      "   video_download_count  video_comment_count  \n",
      "0                   1.0                  0.0  \n",
      "1                1161.0                684.0  \n",
      "2                 833.0                329.0  \n",
      "3                1234.0                584.0  \n",
      "4                 547.0                152.0  \n",
      "<class 'pandas.core.frame.DataFrame'>\n",
      "RangeIndex: 19382 entries, 0 to 19381\n",
      "Data columns (total 12 columns):\n",
      " #   Column                    Non-Null Count  Dtype  \n",
      "---  ------                    --------------  -----  \n",
      " 0   #                         19382 non-null  int64  \n",
      " 1   claim_status              19084 non-null  object \n",
      " 2   video_id                  19382 non-null  int64  \n",
      " 3   video_duration_sec        19382 non-null  int64  \n",
      " 4   video_transcription_text  19084 non-null  object \n",
      " 5   verified_status           19382 non-null  object \n",
      " 6   author_ban_status         19382 non-null  object \n",
      " 7   video_view_count          19084 non-null  float64\n",
      " 8   video_like_count          19084 non-null  float64\n",
      " 9   video_share_count         19084 non-null  float64\n",
      " 10  video_download_count      19084 non-null  float64\n",
      " 11  video_comment_count       19084 non-null  float64\n",
      "dtypes: float64(5), int64(3), object(4)\n",
      "memory usage: 1.8+ MB\n",
      "None\n"
     ]
    }
   ],
   "source": [
    "print(data.head())\n",
    "print(data.info())"
   ]
  },
  {
   "cell_type": "code",
   "execution_count": 4,
   "metadata": {},
   "outputs": [
    {
     "name": "stdout",
     "output_type": "stream",
     "text": [
      "Mean video duration: 32.42173150345682\n",
      "Total view count: 4860858134.0\n"
     ]
    }
   ],
   "source": [
    "#BASIC OPERATIONS\n",
    "\n",
    "mean_duration = data['video_duration_sec'].mean()\n",
    "print(f\"Mean video duration: {mean_duration}\")\n",
    "\n",
    "total_views = data['video_view_count'].sum()\n",
    "print(f\"Total view count: {total_views}\")\n"
   ]
  },
  {
   "cell_type": "code",
   "execution_count": 5,
   "metadata": {},
   "outputs": [
    {
     "name": "stdout",
     "output_type": "stream",
     "text": [
      "Standard deviation of video view counts: 322884.82091253944\n",
      "Median of video like counts: 3403.5\n",
      "Correlation between views and likes: 0.8043221351779141\n"
     ]
    }
   ],
   "source": [
    "#ADVANCED OPERATIONS\n",
    "\n",
    "std_dev_views = np.std(data['video_view_count'])\n",
    "print(f\"Standard deviation of video view counts: {std_dev_views}\")\n",
    "\n",
    "likes = data['video_like_count'].dropna()\n",
    "median_likes = np.median(likes)\n",
    "print(f\"Median of video like counts: {median_likes}\")\n",
    "\n",
    "correlation_views_likes = data['video_view_count'].corr(data['video_like_count'])\n",
    "print(f\"Correlation between views and likes: {correlation_views_likes}\")\n"
   ]
  },
  {
   "cell_type": "code",
   "execution_count": 6,
   "metadata": {},
   "outputs": [
    {
     "name": "stdout",
     "output_type": "stream",
     "text": [
      "claim_status\n",
      "claim      501029.452748\n",
      "opinion      4956.432250\n",
      "Name: video_view_count, dtype: float64\n"
     ]
    }
   ],
   "source": [
    "# Grouping data by claim status\n",
    "grouped_by_claim = data.groupby('claim_status')['video_view_count'].mean()\n",
    "print(grouped_by_claim)"
   ]
  },
  {
   "cell_type": "code",
   "execution_count": 7,
   "metadata": {},
   "outputs": [
    {
     "name": "stdout",
     "output_type": "stream",
     "text": [
      "         video_id  likes_per_view\n",
      "0      7017666017        0.056584\n",
      "1      4014381136        0.549096\n",
      "2      9859838091        0.108282\n",
      "3      1866847991        0.548459\n",
      "4      7105231098        0.622910\n",
      "...           ...             ...\n",
      "19377  7578226840             NaN\n",
      "19378  6079236179             NaN\n",
      "19379  2565539685             NaN\n",
      "19380  2969178540             NaN\n",
      "19381  8132759688             NaN\n",
      "\n",
      "[19382 rows x 2 columns]\n"
     ]
    }
   ],
   "source": [
    "# Applying a function to a column\n",
    "data['likes_per_view'] = data['video_like_count'] / data['video_view_count']\n",
    "print(data[['video_id', 'likes_per_view']])"
   ]
  },
  {
   "cell_type": "code",
   "execution_count": 8,
   "metadata": {},
   "outputs": [
    {
     "name": "stdout",
     "output_type": "stream",
     "text": [
      "       # claim_status    video_id  video_duration_sec  \\\n",
      "9     10        claim  4660861094                  45   \n",
      "76    77        claim  2342638585                  31   \n",
      "105  106        claim  7687467484                  49   \n",
      "117  118        claim  2115386652                  48   \n",
      "140  141        claim  6296788623                  16   \n",
      "\n",
      "                              video_transcription_text verified_status  \\\n",
      "9    someone shared with me that it would take a 50...        verified   \n",
      "76   a friend shared with a friend that only one-fo...        verified   \n",
      "105  a friend mentioned someone discovered that lon...        verified   \n",
      "117  a friend mentioned someone discovered that bee...        verified   \n",
      "140  a friend reported someone discovered that shan...        verified   \n",
      "\n",
      "    author_ban_status  video_view_count  video_like_count  video_share_count  \\\n",
      "9              active          931587.0          171051.0            67739.0   \n",
      "76             active          677288.0          214708.0            66446.0   \n",
      "105      under review          631075.0          284311.0            97442.0   \n",
      "117            active          915553.0          272536.0            78299.0   \n",
      "140            active          775229.0           42657.0             1636.0   \n",
      "\n",
      "     video_download_count  video_comment_count  likes_per_view  \n",
      "9                  4104.0               2540.0        0.183612  \n",
      "76                 2167.0               1428.0        0.317011  \n",
      "105                1163.0                354.0        0.450519  \n",
      "117                   7.0                  3.0        0.297674  \n",
      "140                 835.0                247.0        0.055025  \n"
     ]
    }
   ],
   "source": [
    "# Filtering data based on a condition\n",
    "verified_videos = data[data['verified_status'] == 'verified']\n",
    "print(verified_videos.head())"
   ]
  }
 ],
 "metadata": {
  "kernelspec": {
   "display_name": "Python 3",
   "language": "python",
   "name": "python3"
  },
  "language_info": {
   "codemirror_mode": {
    "name": "ipython",
    "version": 3
   },
   "file_extension": ".py",
   "mimetype": "text/x-python",
   "name": "python",
   "nbconvert_exporter": "python",
   "pygments_lexer": "ipython3",
   "version": "3.12.4"
  }
 },
 "nbformat": 4,
 "nbformat_minor": 2
}
